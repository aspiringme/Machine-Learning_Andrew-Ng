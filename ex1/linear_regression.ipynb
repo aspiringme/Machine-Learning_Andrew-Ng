{
 "cells": [
  {
   "cell_type": "code",
   "execution_count": 9,
   "metadata": {},
   "outputs": [],
   "source": [
    "#import libraries\n",
    "import numpy as np\n",
    "import pandas as pd\n",
    "import matplotlib.pyplot as plt"
   ]
  },
  {
   "cell_type": "code",
   "execution_count": 10,
   "metadata": {},
   "outputs": [
    {
     "name": "stdout",
     "output_type": "stream",
     "text": [
      "   Ones  Population   Profit\n",
      "0     1      6.1101  17.5920\n",
      "1     1      5.5277   9.1302\n",
      "2     1      8.5186  13.6620\n",
      "3     1      7.0032  11.8540\n",
      "4     1      5.8598   6.8233\n"
     ]
    }
   ],
   "source": [
    "#Load data \n",
    "file = 'ex1data1.txt'\n",
    "data = pd.read_csv(file, header=None, names=['Population','Profit'])\n",
    "\n",
    "#Add Ones as bias in the data\n",
    "data.insert(0,'Ones', 1)\n",
    "\n",
    "print(data.head())"
   ]
  },
  {
   "cell_type": "code",
   "execution_count": 11,
   "metadata": {},
   "outputs": [
    {
     "data": {
      "image/png": "[encoded data removed]",
      "text/plain": [
       "<matplotlib.figure.Figure at 0x7fe2d70b1710>"
      ]
     },
     "metadata": {},
     "output_type": "display_data"
    }
   ],
   "source": [
    "#Visualize the data\n",
    "data.plot(kind='scatter', x='Population', y='Profit', figsize=(10,6))\n",
    "plt.show()"
   ]
  },
  {
   "cell_type": "code",
   "execution_count": 12,
   "metadata": {
    "collapsed": true
   },
   "outputs": [],
   "source": [
    "#Select X and y\n",
    "X = data.iloc[:,0:2]\n",
    "y = data.iloc[:,2:3]\n",
    "\n",
    "#Convert X, y, theta into matrices\n",
    "X = np.matrix(X.values)\n",
    "y = np.matrix(y.values)\n",
    "theta = np.matrix(np.array([0,0]))"
   ]
  },
  {
   "cell_type": "code",
   "execution_count": 13,
   "metadata": {
    "collapsed": true
   },
   "outputs": [],
   "source": [
    "#Define Cost Function\n",
    "def computeCost(X,y, theta):\n",
    "    J = np.power(((X*theta.T)-y),2)\n",
    "    return np.sum(J)/(2*len(X))"
   ]
  },
  {
   "cell_type": "code",
   "execution_count": 14,
   "metadata": {},
   "outputs": [
    {
     "name": "stdout",
     "output_type": "stream",
     "text": [
      "32.0727338775\n"
     ]
    }
   ],
   "source": [
    "print(computeCost(X,y,theta))"
   ]
  },
  {
   "cell_type": "code",
   "execution_count": 15,
   "metadata": {
    "collapsed": true
   },
   "outputs": [],
   "source": [
    "#prediction calculation\n",
    "def prediction(X, theta):\n",
    "    return np.matrix(X*theta.T)"
   ]
  },
  {
   "cell_type": "code",
   "execution_count": 16,
   "metadata": {
    "collapsed": true
   },
   "outputs": [],
   "source": [
    "#calculate gradiant descent\n",
    "def gradientDescent(X, y, theta, learn_rate, iters):\n",
    "    for i in range(iters):\n",
    "        error = (X*theta.T) - y\n",
    "        grad = np.multiply(error, X)\n",
    "        grad_cost = np.mean(grad, axis = 0)\n",
    "        theta = theta - learn_rate*grad_cost\n",
    "    return theta"
   ]
  },
  {
   "cell_type": "code",
   "execution_count": 17,
   "metadata": {
    "collapsed": true
   },
   "outputs": [],
   "source": [
    "#assigning the initial training values\n",
    "learn_rate = 0.01\n",
    "iters = 1000"
   ]
  },
  {
   "cell_type": "code",
   "execution_count": 18,
   "metadata": {},
   "outputs": [
    {
     "name": "stdout",
     "output_type": "stream",
     "text": [
      "final_theta = [[-3.24140214  1.1272942 ]]\n",
      "cost = 4.51595550308\n"
     ]
    }
   ],
   "source": [
    "final_theta = gradientDescent(X, y, theta, learn_rate, iters)\n",
    "print('final_theta = '+str(final_theta))\n",
    "\n",
    "cost = computeCost(X, y, final_theta)\n",
    "print('cost = '+ str(cost))"
   ]
  },
  {
   "cell_type": "code",
   "execution_count": 20,
   "metadata": {
    "scrolled": true
   },
   "outputs": [
    {
     "data": {
      "image/png": "[encoded data removed]",
      "text/plain": [
       "<matplotlib.figure.Figure at 0x7fe2d6fbd2b0>"
      ]
     },
     "metadata": {},
     "output_type": "display_data"
    }
   ],
   "source": [
    "#Plot the line\n",
    "\n",
    "population = data['Population'].tolist()\n",
    "profit = data['Profit'].tolist()\n",
    "\n",
    "plt.subplots(figsize=[10,6])\n",
    "plt.scatter(population, profit)\n",
    "plt.plot(population, prediction(X, final_theta))\n",
    "plt.show()"
   ]
  }
 ],
 "metadata": {
  "kernelspec": {
   "display_name": "Python 3",
   "language": "python",
   "name": "python3"
  },
  "language_info": {
   "codemirror_mode": {
    "name": "ipython",
    "version": 3
   },
   "file_extension": ".py",
   "mimetype": "text/x-python",
   "name": "python",
   "nbconvert_exporter": "python",
   "pygments_lexer": "ipython3",
   "version": "3.5.1"
  }
 },
 "nbformat": 4,
 "nbformat_minor": 2
}
