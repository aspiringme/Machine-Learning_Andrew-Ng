{
 "cells": [
  {
   "cell_type": "code",
   "execution_count": 19,
   "metadata": {
    "collapsed": true
   },
   "outputs": [],
   "source": [
    "#import libraries\n",
    "import numpy as np\n",
    "import scipy.io"
   ]
  },
  {
   "cell_type": "code",
   "execution_count": 20,
   "metadata": {},
   "outputs": [
    {
     "name": "stdout",
     "output_type": "stream",
     "text": [
      "Shape of X (5000, 400)\n",
      "Shape of y (5000, 1)\n"
     ]
    }
   ],
   "source": [
    "#load the pixels\n",
    "file1 = 'Desktop\\Miscellenous\\machine-learning-ex3\\ex3\\ex3data1.mat'\n",
    "data = scipy.io.loadmat(file1)\n",
    "X, y = data['X'], data['y']\n",
    "print('Shape of X {}'.format(X.shape))\n",
    "print('Shape of y {}'.format(y.shape))"
   ]
  },
  {
   "cell_type": "code",
   "execution_count": 21,
   "metadata": {},
   "outputs": [
    {
     "name": "stdout",
     "output_type": "stream",
     "text": [
      "Shape of theta1 (25, 401)\n",
      "Shape of theta2 (10, 26)\n"
     ]
    }
   ],
   "source": [
    "#load the weights data\n",
    "file2 = 'Desktop\\Miscellenous\\machine-learning-ex3\\ex3\\ex3weights.mat'\n",
    "mat = scipy.io.loadmat(file2)\n",
    "theta1, theta2 = mat['Theta1'], mat['Theta2']\n",
    "print('Shape of theta1 {}'.format(theta1.shape)) \n",
    "print('Shape of theta2 {}'.format(theta2.shape))"
   ]
  },
  {
   "cell_type": "code",
   "execution_count": 22,
   "metadata": {
    "collapsed": true
   },
   "outputs": [],
   "source": [
    "#defining sigmoid function\n",
    "def sigmoid(z):\n",
    "    return 1/(1 + np.exp(-z))"
   ]
  },
  {
   "cell_type": "code",
   "execution_count": 23,
   "metadata": {},
   "outputs": [
    {
     "name": "stdout",
     "output_type": "stream",
     "text": [
      "shape of a1 (5000, 401)\n"
     ]
    }
   ],
   "source": [
    "# adding ones column in X and assigning it as a1\n",
    "a1 = np.c_[(np.ones(len(X))), np.array(X)] \n",
    "print('shape of a1 {}'.format(a1.shape))"
   ]
  },
  {
   "cell_type": "code",
   "execution_count": 24,
   "metadata": {},
   "outputs": [
    {
     "name": "stdout",
     "output_type": "stream",
     "text": [
      "shape of a2 (5000, 25)\n"
     ]
    }
   ],
   "source": [
    "#hidden layer output as a2\n",
    "h2 = a1.dot(theta1.T)\n",
    "a2 = sigmoid(h2)\n",
    "print('shape of a2 {}'.format(a2.shape))"
   ]
  },
  {
   "cell_type": "code",
   "execution_count": 25,
   "metadata": {},
   "outputs": [
    {
     "name": "stdout",
     "output_type": "stream",
     "text": [
      "shape of new a2 (5000, 26)\n"
     ]
    }
   ],
   "source": [
    "# adding ones column in a2\n",
    "a2 = np.c_[(np.ones(len(a2))), np.array(a2)]\n",
    "print('shape of new a2 {}'.format(a2.shape))"
   ]
  },
  {
   "cell_type": "code",
   "execution_count": 26,
   "metadata": {},
   "outputs": [
    {
     "name": "stdout",
     "output_type": "stream",
     "text": [
      "shape of a3 (5000, 10)\n"
     ]
    }
   ],
   "source": [
    "#output layer a3\n",
    "h3 = a2.dot(theta2.T)\n",
    "a3 = sigmoid(h3)\n",
    "print('shape of a3 {}'.format(a3.shape))"
   ]
  },
  {
   "cell_type": "code",
   "execution_count": 27,
   "metadata": {},
   "outputs": [],
   "source": [
    "#get the index of class\n",
    "y_pred = np.argmax(a3, axis = 1)"
   ]
  },
  {
   "cell_type": "code",
   "execution_count": 28,
   "metadata": {},
   "outputs": [
    {
     "name": "stdout",
     "output_type": "stream",
     "text": [
      "Accuracy is 97.52%\n"
     ]
    }
   ],
   "source": [
    "#formatting y_red according to the output ie; a3\n",
    "formatted_y_pred = np.reshape(y_pred+1, (5000, 1))\n",
    "accuracy = np.mean(formatted_y_pred == y)\n",
    "print('Accuracy is {}%'.format(accuracy*100))"
   ]
  },
  {
   "cell_type": "code",
   "execution_count": null,
   "metadata": {
    "collapsed": true
   },
   "outputs": [],
   "source": []
  }
 ],
 "metadata": {
  "kernelspec": {
   "display_name": "Python 3",
   "language": "python",
   "name": "python3"
  },
  "language_info": {
   "codemirror_mode": {
    "name": "ipython",
    "version": 3
   },
   "file_extension": ".py",
   "mimetype": "text/x-python",
   "name": "python",
   "nbconvert_exporter": "python",
   "pygments_lexer": "ipython3",
   "version": "3.6.3"
  }
 },
 "nbformat": 4,
 "nbformat_minor": 2
}
